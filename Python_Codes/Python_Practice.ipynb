{
 "cells": [
  {
   "cell_type": "code",
   "execution_count": null,
   "id": "c050e2d2",
   "metadata": {},
   "outputs": [],
   "source": [
    "# this failed becuase break is a keyword"
   ]
  },
  {
   "cell_type": "code",
   "execution_count": 1,
   "id": "5f7d47ad",
   "metadata": {},
   "outputs": [
    {
     "ename": "SyntaxError",
     "evalue": "invalid syntax (2709188746.py, line 1)",
     "output_type": "error",
     "traceback": [
      "\u001b[0;36m  File \u001b[0;32m\"/var/folders/d7/_82pl1ln2yx3d3zmzf2pwh780000gn/T/ipykernel_66402/2709188746.py\"\u001b[0;36m, line \u001b[0;32m1\u001b[0m\n\u001b[0;31m    break = 5\u001b[0m\n\u001b[0m          ^\u001b[0m\n\u001b[0;31mSyntaxError\u001b[0m\u001b[0;31m:\u001b[0m invalid syntax\n"
     ]
    }
   ],
   "source": [
    "break = 5"
   ]
  },
  {
   "cell_type": "code",
   "execution_count": 2,
   "id": "6c074505",
   "metadata": {},
   "outputs": [
    {
     "name": "stdout",
     "output_type": "stream",
     "text": [
      "32\n"
     ]
    }
   ],
   "source": [
    "my_yob = 1992\n",
    "curr_yr = 2024\n",
    "my_age = curr_yr - my_yob\n",
    "print(my_age)"
   ]
  },
  {
   "cell_type": "code",
   "execution_count": 4,
   "id": "4834fe34",
   "metadata": {},
   "outputs": [
    {
     "name": "stdout",
     "output_type": "stream",
     "text": [
      "Pratibha Medepalli\n"
     ]
    }
   ],
   "source": [
    "my_first_name = 'Pratibha'\n",
    "my_last_name = 'Medepalli'\n",
    "my_name = my_first_name + ' ' + my_last_name\n",
    "print(my_name)"
   ]
  },
  {
   "cell_type": "code",
   "execution_count": 5,
   "id": "f62f1614",
   "metadata": {},
   "outputs": [
    {
     "ename": "SyntaxError",
     "evalue": "invalid syntax (1272310977.py, line 2)",
     "output_type": "error",
     "traceback": [
      "\u001b[0;36m  File \u001b[0;32m\"/var/folders/d7/_82pl1ln2yx3d3zmzf2pwh780000gn/T/ipykernel_66402/1272310977.py\"\u001b[0;36m, line \u001b[0;32m2\u001b[0m\n\u001b[0;31m    1record = 2\u001b[0m\n\u001b[0m     ^\u001b[0m\n\u001b[0;31mSyntaxError\u001b[0m\u001b[0;31m:\u001b[0m invalid syntax\n"
     ]
    }
   ],
   "source": [
    "_nation = 5\n",
    "1record = 2\n",
    "record1 = 4\n",
    "record_one = 6 \n",
    "record-one = 3\n",
    "record^one = 9"
   ]
  },
  {
   "cell_type": "code",
   "execution_count": 11,
   "id": "5fe31e52",
   "metadata": {},
   "outputs": [
    {
     "name": "stdout",
     "output_type": "stream",
     "text": [
      "llo\n"
     ]
    }
   ],
   "source": [
    "txt = \"Hello World\"\n",
    "x = txt[2:5]\n",
    "print(x)"
   ]
  },
  {
   "cell_type": "code",
   "execution_count": 12,
   "id": "c49e4fd6",
   "metadata": {},
   "outputs": [
    {
     "name": "stdout",
     "output_type": "stream",
     "text": [
      "My name is John, and I am 36\n"
     ]
    }
   ],
   "source": [
    "#Insert the correct syntax to add a placeholder for the age parameter.\n",
    "age = 36\n",
    "txt = \"My name is John, and I am {}\"\n",
    "print(txt.format(age))"
   ]
  },
  {
   "cell_type": "code",
   "execution_count": 13,
   "id": "8711aeca",
   "metadata": {},
   "outputs": [
    {
     "name": "stdout",
     "output_type": "stream",
     "text": [
      "True\n"
     ]
    }
   ],
   "source": [
    "print(bool(\"abc\"))"
   ]
  },
  {
   "cell_type": "code",
   "execution_count": 14,
   "id": "399ccd59",
   "metadata": {},
   "outputs": [
    {
     "name": "stdout",
     "output_type": "stream",
     "text": [
      "('app', 'kiw', 'lem')\n"
     ]
    }
   ],
   "source": [
    "x = (\"app\", \"ban\", \"lem\")\n",
    "y =list(x)\n",
    "y[1] = \"kiw\"\n",
    "x = tuple(y)\n",
    "print(x)"
   ]
  },
  {
   "cell_type": "code",
   "execution_count": null,
   "id": "6d0a68a4",
   "metadata": {},
   "outputs": [],
   "source": [
    "#You have a football field that is 92 meter long and 48.8 meter wide. Find out total area using python and print it."
   ]
  },
  {
   "cell_type": "code",
   "execution_count": 15,
   "id": "101cd067",
   "metadata": {},
   "outputs": [
    {
     "name": "stdout",
     "output_type": "stream",
     "text": [
      "4489.599999999999\n"
     ]
    }
   ],
   "source": [
    "length = 92\n",
    "breadth = 48.8\n",
    "area = length*breadth\n",
    "print(area)"
   ]
  },
  {
   "cell_type": "code",
   "execution_count": null,
   "id": "852c9f09",
   "metadata": {},
   "outputs": [],
   "source": [
    "#You bought 9 packets of potato chips from a store. Each packet costs 1.49 dollar and you gave shopkeeper 20 dollar. Find out using python, how many dollars is the shopkeeper going to give you back?"
   ]
  },
  {
   "cell_type": "code",
   "execution_count": 17,
   "id": "9589c5fd",
   "metadata": {},
   "outputs": [
    {
     "name": "stdout",
     "output_type": "stream",
     "text": [
      "6.59\n"
     ]
    }
   ],
   "source": [
    "num_packets = 9\n",
    "cost_per_unit = 1.49\n",
    "amount_paid = 20\n",
    "balance = amount_paid - (num_packets * cost_per_unit)\n",
    "print(balance)"
   ]
  },
  {
   "cell_type": "code",
   "execution_count": null,
   "id": "61b9e16a",
   "metadata": {},
   "outputs": [],
   "source": [
    "#You want to replace tiles in your bathroom which is exactly square and 5.5 feet is its length. If tiles cost 500 rs per square feet, how much will be the total cost to replace all tiles. Calculate and print the cost using python (Hint: Use power operator ** to find area of a square)"
   ]
  },
  {
   "cell_type": "code",
   "execution_count": 19,
   "id": "eddbaf2e",
   "metadata": {},
   "outputs": [
    {
     "name": "stdout",
     "output_type": "stream",
     "text": [
      "15125.0\n"
     ]
    }
   ],
   "source": [
    "len_side = 5.5\n",
    "area = len_side ** 2\n",
    "cost_per_sqft = 500\n",
    "total_cost = area * cost_per_sqft\n",
    "print(total_cost)"
   ]
  },
  {
   "cell_type": "code",
   "execution_count": null,
   "id": "6254dfaa",
   "metadata": {},
   "outputs": [],
   "source": [
    "#Print binary representation of number 17"
   ]
  },
  {
   "cell_type": "code",
   "execution_count": 21,
   "id": "58de3fd6",
   "metadata": {},
   "outputs": [
    {
     "name": "stdout",
     "output_type": "stream",
     "text": [
      "binary of 17 is: 10001\n"
     ]
    }
   ],
   "source": [
    "num=17\n",
    "print('binary of 17 is:',format(num,'b'))"
   ]
  },
  {
   "cell_type": "code",
   "execution_count": null,
   "id": "bcdc4f6b",
   "metadata": {},
   "outputs": [],
   "source": [
    "'''Create 3 variables to store street, city and country, \n",
    "now create address variable to store entire address. \n",
    "Use two ways of creating this variable, one using + operator \n",
    "and the other using f-string. Now Print the address in such a way that the street, \n",
    "city and country prints in a separate line"
   ]
  },
  {
   "cell_type": "code",
   "execution_count": 31,
   "id": "6c7a203c",
   "metadata": {},
   "outputs": [
    {
     "name": "stdout",
     "output_type": "stream",
     "text": [
      "+address is:\n",
      " lane 4\n",
      "new city\n",
      "new country\n",
      "address is:\n",
      "lane 4\n",
      "new city\n",
      "new country\n"
     ]
    }
   ],
   "source": [
    "my_street = 'lane 4'\n",
    "my_city = 'new city'\n",
    "my_country = 'new country'\n",
    "print(\"+address is:\\n\", my_street + '\\n' + my_city + '\\n' + my_country)\n",
    "print(f\"address is:\\n{my_street}\\n{my_city}\\n{my_country}\")"
   ]
  },
  {
   "cell_type": "code",
   "execution_count": null,
   "id": "ca617b68",
   "metadata": {},
   "outputs": [],
   "source": [
    "'''Create a variable to store the string \"Earth revolves around the sun\"\n",
    "Print \"revolves\" using slice operator\n",
    "Print \"sun\" using negative index"
   ]
  },
  {
   "cell_type": "code",
   "execution_count": 34,
   "id": "4d089bec",
   "metadata": {},
   "outputs": [
    {
     "name": "stdout",
     "output_type": "stream",
     "text": [
      "revolves\n",
      "sun\n"
     ]
    }
   ],
   "source": [
    "new_string = 'Earth revolves around the sun'\n",
    "print(new_string[6:14])\n",
    "print(new_string[-3:])"
   ]
  },
  {
   "cell_type": "code",
   "execution_count": null,
   "id": "a4878cc8",
   "metadata": {},
   "outputs": [],
   "source": [
    "'''Create two variables to store how many fruits and vegetables you eat in a day. \n",
    "Now Print \"I eat x veggies and y fruits daily\" where x and y presents vegetables and fruits that you eat everyday.\n",
    "Use python f string for this.'''"
   ]
  },
  {
   "cell_type": "code",
   "execution_count": 35,
   "id": "c7358a77",
   "metadata": {},
   "outputs": [
    {
     "name": "stdout",
     "output_type": "stream",
     "text": [
      "I eat 2 veggies and 4 fruits daily\n"
     ]
    }
   ],
   "source": [
    "x = 2\n",
    "y = 4\n",
    "print(f'I eat {x} veggies and {y} fruits daily')"
   ]
  },
  {
   "cell_type": "code",
   "execution_count": null,
   "id": "2fef09b8",
   "metadata": {},
   "outputs": [],
   "source": [
    "'''\n",
    "I have a string variable called s='maine 200 banana khaye'. \n",
    "This of course is a wrong statement, the correct statement is 'maine 10 samosa khaye'. \n",
    "Replace incorrect words in original string with new ones and print the new string. \n",
    "Also try to do this in one line.\n",
    "'''"
   ]
  },
  {
   "cell_type": "code",
   "execution_count": 36,
   "id": "bb465efd",
   "metadata": {},
   "outputs": [
    {
     "name": "stdout",
     "output_type": "stream",
     "text": [
      "maine 10 samosa khaye\n"
     ]
    }
   ],
   "source": [
    "s='maine 200 banana khaye'\n",
    "r = 'maine 10 samosa khaye'\n",
    "x = s.replace(\"200 banana\", \"10 samosa\")\n",
    "print(x)"
   ]
  },
  {
   "cell_type": "code",
   "execution_count": null,
   "id": "84136bae",
   "metadata": {},
   "outputs": [],
   "source": [
    "'''Let us say your expense for every month are listed below,\n",
    "January - 2200\n",
    "February - 2350\n",
    "March - 2600\n",
    "April - 2130\n",
    "May - 2190\n",
    "Create a list to store these monthly expenses and using that find out,\n",
    "\n",
    "1. In Feb, how many dollars you spent extra compare to January?\n",
    "2. Find out your total expense in first quarter (first three months) of the year.\n",
    "3. Find out if you spent exactly 2000 dollars in any month\n",
    "4. June month just finished and your expense is 1980 dollar. Add this item to our monthly expense list\n",
    "5. You returned an item that you bought in a month of April and\n",
    "got a refund of 200$. Make a correction to your monthly expense list\n",
    "based on this"
   ]
  },
  {
   "cell_type": "code",
   "execution_count": 49,
   "id": "68d46ead",
   "metadata": {},
   "outputs": [
    {
     "name": "stdout",
     "output_type": "stream",
     "text": [
      "difference is 150\n",
      "total expense of first quarter is 7150\n",
      "is 2000 spent in any month:  False\n",
      "[2200, 2350, 2600, 2130, 2190, 1980]\n",
      "corrected list:  [2200, 2350, 2600, 1930, 2190, 1980]\n"
     ]
    }
   ],
   "source": [
    "#exp_list = [['January','2200'],['February','2350'],['March','2600'],['April','2130'],['May','2190']]\n",
    "exp_list = [2200,2350,2600,2130,2190]\n",
    "#ans1\n",
    "print(f'difference is {exp_list[1] - exp_list[0]}')\n",
    "#ans2\n",
    "i=0\n",
    "ans_2 = 0\n",
    "qrtr = 3\n",
    "for i in range(qrtr):\n",
    "    ans_2 += exp_list[i]\n",
    "print(f'total expense of first quarter is {ans_2}')\n",
    "#ans_3\n",
    "i=0\n",
    "for i in range(len(exp_list)):\n",
    "    if exp_list[i] == 2000:\n",
    "        print(\"YES 2000 spent\")        \n",
    "#or \n",
    "print('is 2000 spent in any month: ', 2000 in exp_list)\n",
    "#ans4\n",
    "exp_list.append(1980)\n",
    "print(exp_list)\n",
    "#ans5\n",
    "exp_list[3] = exp_list[3] - 200\n",
    "print('corrected list: ', exp_list )"
   ]
  },
  {
   "cell_type": "code",
   "execution_count": 50,
   "id": "d975c237",
   "metadata": {},
   "outputs": [],
   "source": [
    "'''Using this find out,\n",
    "\n",
    "1. Length of the list\n",
    "2. Add 'black panther' at the end of this list\n",
    "3. You realize that you need to add 'black panther' after 'hulk',\n",
    "   so remove it from the list first and then add it after 'hulk'\n",
    "4. Now you don't like thor and hulk because they get angry easily :)\n",
    "   So you want to remove thor and hulk from list and replace them with doctor strange (because he is cool).\n",
    "   Do that with one line of code.\n",
    "5. Sort the heros list in alphabetical order (Hint. Use dir() functions to list down all functions available in list)\n",
    "'''\n",
    "heros=['spider man','thor','hulk','iron man','captain america']"
   ]
  },
  {
   "cell_type": "code",
   "execution_count": null,
   "id": "76df19be",
   "metadata": {},
   "outputs": [],
   "source": []
  }
 ],
 "metadata": {
  "kernelspec": {
   "display_name": "Python 3 (ipykernel)",
   "language": "python",
   "name": "python3"
  },
  "language_info": {
   "codemirror_mode": {
    "name": "ipython",
    "version": 3
   },
   "file_extension": ".py",
   "mimetype": "text/x-python",
   "name": "python",
   "nbconvert_exporter": "python",
   "pygments_lexer": "ipython3",
   "version": "3.9.7"
  }
 },
 "nbformat": 4,
 "nbformat_minor": 5
}
